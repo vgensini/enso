{
 "cells": [
  {
   "cell_type": "code",
   "execution_count": 1,
   "metadata": {
    "collapsed": true
   },
   "outputs": [],
   "source": [
    "from netCDF4 import Dataset\n",
    "import numpy as np\n",
    "import pandas as pd\n",
    "import matplotlib\n",
    "import matplotlib.pyplot as plt\n",
    "import scipy.ndimage\n",
    "import scipy.stats\n",
    "import matplotlib.font_manager as font_manager\n",
    "from matplotlib import cm\n",
    "import matplotlib.colors as colors\n",
    "from matplotlib.mlab import bivariate_normal\n",
    "from matplotlib.colors import LogNorm\n",
    "from mpl_toolkits.basemap import Basemap, maskoceans"
   ]
  },
  {
   "cell_type": "code",
   "execution_count": 2,
   "metadata": {},
   "outputs": [
    {
     "name": "stdout",
     "output_type": "stream",
     "text": [
      "(365, 1, 277, 349)\n"
     ]
    }
   ],
   "source": [
    "nc1 = Dataset('narr_latlon.nc','r',format='NETCDF4_CLASSIC')\n",
    "lats = nc1.variables[\"lats\"][0][:][:]\n",
    "lons = nc1.variables[\"lons\"][0][:][:]\n",
    "nc1.close()\n",
    "stp_00z=np.load('stp_00z_narr.npy')\n",
    "stp_03z=np.load('stp_03z_narr.npy')\n",
    "stp_06z=np.load('stp_06z_narr.npy')\n",
    "stp_09z=np.load('stp_09z_narr.npy')\n",
    "stp_12z=np.load('stp_12z_narr.npy')\n",
    "stp_15z=np.load('stp_15z_narr.npy')\n",
    "stp_18z=np.load('stp_18z_narr.npy')\n",
    "stp_21z=np.load('stp_21z_narr.npy')\n",
    "\n",
    "print (stp_21z.shape)\n",
    "#stp_all_hrs=np.sum(np.squeeze(np.stack((stp_00z,stp_03z,stp_06z,stp_09z,stp_12z,stp_15z,stp_18z,stp_21z)),axis=2),axis=0)\n",
    "#print(stp_all_hrs.shape)\n",
    "\n",
    "#stp_avg_yr=np.sum(stp_all_hrs,axis=0)*3/38.\n",
    "\n",
    "#plot the map\n",
    "#fig = plt.figure()\n",
    "#fig.set_size_inches(12,12)\n",
    "#m = Basemap  (projection='lcc',lon_0=-92.54199,lat_0=38.09401,llcrnrlat=20, urcrnrlat=55,llcrnrlon=-120,urcrnrlon=-60,resolution='l',area_thresh=1000)\n",
    "#m.drawcoastlines(color='gray')\n",
    "#m.drawstates(color='gray')\n",
    "#masked = maskoceans(lons,lats,stp_avg_yr)\n",
    "#m.drawcountries(color='gray')\n",
    "#x,y = m(lons,lats)\n",
    "#plot = m.pcolormesh(x,y,masked,zorder=1, norm=colors.LogNorm(vmin=1, vmax=50),cmap=cm.magma)\n",
    "#plot = m.pcolormesh(x,y,masked,zorder=1,vmin=1, vmax=200,cmap=cm.plasma)\n",
    "#colbar = m.colorbar(plot,\"bottom\", size=\"4%\",pad=\"5%\",extend='max')\n",
    "#colbar.set_label('STP',fontsize='medium',weight='bold')\n",
    "#plt.title =(\"1979-2016 STP > 1\")\n",
    "#plt.show()"
   ]
  },
  {
   "cell_type": "code",
   "execution_count": null,
   "metadata": {
    "collapsed": true
   },
   "outputs": [],
   "source": []
  }
 ],
 "metadata": {
  "kernelspec": {
   "display_name": "Python [conda env:enso]",
   "language": "python",
   "name": "conda-env-enso-py"
  },
  "language_info": {
   "codemirror_mode": {
    "name": "ipython",
    "version": 3
   },
   "file_extension": ".py",
   "mimetype": "text/x-python",
   "name": "python",
   "nbconvert_exporter": "python",
   "pygments_lexer": "ipython3",
   "version": "3.5.1"
  }
 },
 "nbformat": 4,
 "nbformat_minor": 2
}
