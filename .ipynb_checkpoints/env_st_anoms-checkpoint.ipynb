{
 "cells": [
  {
   "cell_type": "markdown",
   "metadata": {},
   "source": [
    "## STP correlation with Tornadoes\n",
    "##### Dr. Victor Gensini (Spring 2018)\n",
    "##### Department of Geographic and Atmospheric Sciences\n",
    "<img style=\"float:left;height:40px\"src=\"https://encrypted-tbn0.gstatic.com/images?q=tbn:ANd9GcQthtdrc2lZyEOC1iiwubFyvNfzJE7q7_GCTdlFF3peKckmi7cN\">"
   ]
  },
  {
   "cell_type": "code",
   "execution_count": 1,
   "metadata": {},
   "outputs": [],
   "source": [
    "from netCDF4 import date2num,date2index\n",
    "from netCDF4 import Dataset\n",
    "import numpy as np\n",
    "import pandas as pd\n",
    "import matplotlib\n",
    "import matplotlib.pyplot as plt\n",
    "import scipy.ndimage\n",
    "from scipy import ndimage\n",
    "import scipy.stats\n",
    "import matplotlib.font_manager as font_manager\n",
    "from matplotlib import cm\n",
    "from matplotlib.path import Path\n",
    "import matplotlib.colors as colors\n",
    "from matplotlib.mlab import bivariate_normal\n",
    "from matplotlib.colors import LogNorm\n",
    "from mpl_toolkits.basemap import Basemap, maskoceans\n",
    "from scipy.stats.mstats import linregress\n",
    "from scipy import stats\n",
    "import shapefile\n",
    "import datetime\n",
    "#import seaborn as sns\n",
    "#sns.set()"
   ]
  },
  {
   "cell_type": "code",
   "execution_count": 15,
   "metadata": {},
   "outputs": [
    {
     "name": "stdout",
     "output_type": "stream",
     "text": [
      "-0.754571545687\n",
      "-0.650989410085\n",
      "-0.620036959815\n",
      "3.09901955429\n",
      "0.295471007459\n",
      "0.138728682594\n",
      "-0.0941286986381\n",
      "-1.01335942494\n",
      "0.0945432317351\n",
      "-0.394034386981\n",
      "-1.14473067776\n",
      "0.215808012679\n",
      "-0.775167254571\n",
      "-0.974149920905\n",
      "-0.678105007869\n",
      "-0.91952123846\n",
      "-0.215665831701\n",
      "0.546095684016\n",
      "-0.295612219902\n",
      "-0.46334984146\n",
      "-0.220547927454\n",
      "-0.850288593747\n",
      "-0.577691725975\n",
      "0.517290767007\n",
      "-0.59883029888\n",
      "0.288124861117\n",
      "-0.0222406207656\n",
      "-0.426367000016\n",
      "0.780193371519\n",
      "0.727325776762\n",
      "-0.16837593473\n",
      "-0.336584651844\n",
      "-0.752593312391\n",
      "1.36607062493\n",
      "0.0940482133568\n",
      "0.0211204128683\n",
      "3.75838955481\n",
      "1.00471272943\n"
     ]
    },
    {
     "data": {
      "text/plain": [
       "<matplotlib.figure.Figure at 0x7f0d840cc748>"
      ]
     },
     "metadata": {},
     "output_type": "display_data"
    }
   ],
   "source": [
    "datadir = '/home/data/stp_narr/'\n",
    "nc1 = Dataset('narr_latlon.nc','r',format='NETCDF4_CLASSIC')\n",
    "lats = nc1.variables[\"lats\"][0][:][:]\n",
    "lons = nc1.variables[\"lons\"][0][:][:]\n",
    "nc1.close()\n",
    "\n",
    "\n",
    "#read shapefile using pyshp (http://code.google.com/p/pyshp/)\n",
    "sf = shapefile.Reader('/home/vgensini/projects/stp/shapefiles/US_outline.shp')\n",
    "sfrec = sf.shapeRecord()\n",
    "points = sfrec.shape.points\n",
    "#print points\n",
    "latty_bin = lats.flatten()\n",
    "lonny_bin = lons.flatten()\n",
    "lonlat = []\n",
    "\n",
    "for lt,ln in zip(latty_bin,lonny_bin):\n",
    "    lonlat.append([ln,lt])\n",
    "#use points_inside_polygon to \n",
    "#clip = matplotlib.nxutils.points_inside_poly(lonlat,points)\n",
    "path = Path(points)\n",
    "clip = path.contains_points(lonlat)\n",
    "\n",
    "#reshape array\n",
    "clip = clip.reshape(lats.shape)\n",
    "\n",
    "#read shapefile using pyshp (http://code.google.com/p/pyshp/)\n",
    "sf = shapefile.Reader('/home/vgensini/projects/stp/shapefiles/mask.shp')\n",
    "sfrec = sf.shapeRecord()\n",
    "points = sfrec.shape.points\n",
    "#print points\n",
    "latty_bin = lats.flatten()\n",
    "lonny_bin = lons.flatten()\n",
    "lonlat = []\n",
    "\n",
    "for lt,ln in zip(latty_bin,lonny_bin):\n",
    "    lonlat.append([ln,lt])\n",
    "#use points_inside_polygon to \n",
    "#clip = matplotlib.nxutils.points_inside_poly(lonlat,points)\n",
    "path = Path(points)\n",
    "clip1 = path.contains_points(lonlat)\n",
    "\n",
    "#reshape array\n",
    "clip1 = clip1.reshape(lats.shape)\n",
    "\n",
    "\n",
    "stp_gt1_all=np.load(datadir+'narr_stp_diurnal_max_79_17.npy')\n",
    "#stp_gt1_all=np.load(datadir+'stp_00z.npy')\n",
    "#print (stp_gt1_all.shape)\n",
    "#stp_gt1_all = np.squeeze(stp_gt1_all)\n",
    "stp_gt1_all = stp_gt1_all[60:152,:,:,:]\n",
    "inter_var = np.sum(stp_gt1_all,axis=0)\n",
    "jul_vals =[]\n",
    "doy = np.arange(0,365,1,dtype=np.int)\n",
    "years = np.arange(0,38,1,dtype=np.int)\n",
    "plt.figure(figsize=(18,11))\n",
    "for yr in years:\n",
    "    stp_dy_val = inter_var[yr,:,:]\n",
    "    stp_dy_val_clip = np.ma.masked_where(clip==False,stp_dy_val)\n",
    "    jul_vals.append(stp_dy_val_clip.sum())\n",
    "jul_vals = np.array(jul_vals)\n",
    "env_average=np.average(jul_vals)\n",
    "env_stdev=np.std(jul_vals)\n",
    "for val in jul_vals:\n",
    "    print((val-env_average)/env_stdev)"
   ]
  },
  {
   "cell_type": "code",
   "execution_count": null,
   "metadata": {},
   "outputs": [],
   "source": []
  }
 ],
 "metadata": {
  "kernelspec": {
   "display_name": "Python [conda env:py36]",
   "language": "python",
   "name": "conda-env-py36-py"
  },
  "language_info": {
   "codemirror_mode": {
    "name": "ipython",
    "version": 3
   },
   "file_extension": ".py",
   "mimetype": "text/x-python",
   "name": "python",
   "nbconvert_exporter": "python",
   "pygments_lexer": "ipython3",
   "version": "3.6.3"
  }
 },
 "nbformat": 4,
 "nbformat_minor": 2
}
