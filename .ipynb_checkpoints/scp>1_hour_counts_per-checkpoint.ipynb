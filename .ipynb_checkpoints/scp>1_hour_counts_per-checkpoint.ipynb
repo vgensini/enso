{
 "cells": [
  {
   "cell_type": "markdown",
   "metadata": {},
   "source": [
    "## NARR STP Annual Cycles\n",
    "##### Dr. Victor Gensini (Fall 2017)\n",
    "##### Department of Geographic and Atmospheric Sciences\n",
    "<img style=\"float:left;height:40px\"src=\"https://encrypted-tbn0.gstatic.com/images?q=tbn:ANd9GcQthtdrc2lZyEOC1iiwubFyvNfzJE7q7_GCTdlFF3peKckmi7cN\">"
   ]
  },
  {
   "cell_type": "code",
   "execution_count": 1,
   "metadata": {
    "collapsed": true
   },
   "outputs": [],
   "source": [
    "import datetime, os, calendar\n",
    "import numpy as np\n",
    "import pandas as pd\n",
    "from netCDF4 import date2num,date2index\n",
    "from netCDF4 import Dataset\n",
    "import pickle"
   ]
  },
  {
   "cell_type": "code",
   "execution_count": 2,
   "metadata": {
    "collapsed": true
   },
   "outputs": [],
   "source": [
    "stp_yr = np.empty((0,277,349))\n",
    "stp_hrs = np.empty((0,38,277,349))\n",
    "stp_doy = np.empty((0,1,38,277,349))\n",
    "nc = Dataset('stp_cin_1979_2016.nc','r',format='NETCDF4_CLASSIC')"
   ]
  },
  {
   "cell_type": "code",
   "execution_count": 3,
   "metadata": {},
   "outputs": [
    {
     "name": "stdout",
     "output_type": "stream",
     "text": [
      "(365, 1, 38, 277, 349)\n"
     ]
    }
   ],
   "source": [
    "###############################\n",
    "#Enter the start and end date:#\n",
    "######################################\n",
    "#start_input = '1979110100' #YYYYMMDDHH\n",
    "#end_input  =  '2016110100' #YYYYMMDDHH\n",
    "######################################\n",
    "hours=['00','03','06','09','12','15','18','21']\n",
    "hours=['21']\n",
    "months=['01','02','03','04','05','06','07','08','09','10','11','12']\n",
    "for month in months:\n",
    "    if month=='01' or month=='03' or month=='05' or month=='07' or month=='08' or month=='10' or month=='12':\n",
    "        emon = 31\n",
    "    elif month=='04' or month=='06' or month=='09' or month=='11':\n",
    "        emon = 30\n",
    "    if month=='02':\n",
    "        emon = 28\n",
    "    daycount=1\n",
    "    while daycount <= emon:\n",
    "        for hrs in hours:\n",
    "            start_input = '1979'+month+'%02d'%daycount+hrs    #YYYYMMDDHH\n",
    "            end_input  =  '2016'+month+'%02d'%daycount+hrs #YYYYMMDDHH\n",
    "            begdate = datetime.datetime.strptime(start_input,\"%Y%m%d%H\")\n",
    "            enddate = datetime.datetime.strptime(end_input,\"%Y%m%d%H\")\n",
    "            dates = []\n",
    "            while begdate <= enddate:\n",
    "                if calendar.isleap(begdate.year) == True:   \n",
    "                    dates.append(begdate)\n",
    "                    begdate+=datetime.timedelta(days=1)\n",
    "                else:\n",
    "                    dates.append(begdate)\n",
    "                begdate+=datetime.timedelta(days=365)\n",
    "            #do things here\n",
    "            #print dates\n",
    "            #print len(dates)\n",
    "            for i,dt in enumerate(dates):\n",
    "                idex = date2index(dt,nc['time'])\n",
    "                stp = nc.variables[\"stp\"][idex][:][:]\n",
    "                cin  = nc.variables[\"sbcin\"][idex][:][:]\n",
    "                #cin mask\n",
    "                term5 = np.fabs(cin)\n",
    "                term5[np.fabs(cin)>50]=0.\n",
    "                term5[np.fabs(cin)<=50]=1.\n",
    "                stp = stp * term5\n",
    "                stp[stp<1]=0.\n",
    "                stp[stp>=1]=1.\n",
    "                stp_yr = np.append(stp_yr,[stp],axis=0)\n",
    "                #print scp_climo.shape\n",
    "            #print stp_yr.shape\n",
    "            #print stp_hrs.shape\n",
    "            del idex\n",
    "            del stp\n",
    "            del cin\n",
    "            del term5\n",
    "            stp_hrs=np.append(stp_hrs,[stp_yr],axis=0)\n",
    "            del stp_yr\n",
    "            stp_yr = np.empty((0,277,349))\n",
    "        #print stp_hrs.shape\n",
    "        #print stp_doy.shape\n",
    "        stp_doy=np.append(stp_doy,[stp_hrs],axis=0)\n",
    "        del stp_hrs\n",
    "        stp_hrs = np.empty((0,38,277,349))\n",
    "        daycount+=1\n",
    "print (stp_doy.shape)\n",
    "stp_doy = np.sum(stp_doy,axis=2)\n",
    "np.save('stp_21z_narr.npy',stp_doy)"
   ]
  },
  {
   "cell_type": "code",
   "execution_count": 4,
   "metadata": {
    "collapsed": true
   },
   "outputs": [],
   "source": [
    "#nc.close()\n",
    "#mean_stp_daily = np.mean(scp_final,axis=1)\n",
    "#stdev_scp_daily = np.std(scp_final,axis=1)\n",
    "#log_values = np.log(scp_final)\n",
    "#mean_scp_daily_log = np.mean(log_values,axis=1)\n",
    "#stdev_scp_daily_log = np.std(log_values,axis=1)\n",
    "#print mean_scp_daily.shape\n",
    "#print stdev_scp_daily.shape\n",
    "#stp_doy.dump('narr_00z_stp.npy') #Daily Mean\n",
    "#stdev_scp_daily.dump('narr_stdev_scp_daily.npy') #Daily STDEV\n",
    "#mean_scp_daily_log.dump('narr_mean_scp_daily_log.npy') \n",
    "#stdev_scp_daily_log.dump('narr_stdev_scp_daily_log.npy') "
   ]
  },
  {
   "cell_type": "code",
   "execution_count": null,
   "metadata": {
    "collapsed": true
   },
   "outputs": [],
   "source": []
  }
 ],
 "metadata": {
  "kernelspec": {
   "display_name": "Python [conda env:enso]",
   "language": "python",
   "name": "conda-env-enso-py"
  },
  "language_info": {
   "codemirror_mode": {
    "name": "ipython",
    "version": 3
   },
   "file_extension": ".py",
   "mimetype": "text/x-python",
   "name": "python",
   "nbconvert_exporter": "python",
   "pygments_lexer": "ipython3",
   "version": "3.5.1"
  }
 },
 "nbformat": 4,
 "nbformat_minor": 2
}
