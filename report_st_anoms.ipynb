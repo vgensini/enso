{
 "cells": [
  {
   "cell_type": "markdown",
   "metadata": {},
   "source": [
    "## STP correlation with Tornadoes\n",
    "##### Dr. Victor Gensini (Spring 2018)\n",
    "##### Department of Geographic and Atmospheric Sciences\n",
    "<img style=\"float:left;height:40px\"src=\"https://encrypted-tbn0.gstatic.com/images?q=tbn:ANd9GcQthtdrc2lZyEOC1iiwubFyvNfzJE7q7_GCTdlFF3peKckmi7cN\">"
   ]
  },
  {
   "cell_type": "code",
   "execution_count": 1,
   "metadata": {},
   "outputs": [],
   "source": [
    "from netCDF4 import date2num,date2index\n",
    "from netCDF4 import Dataset\n",
    "import numpy as np\n",
    "import pandas as pd\n",
    "import matplotlib\n",
    "import matplotlib.pyplot as plt\n",
    "import scipy.ndimage\n",
    "from scipy import ndimage\n",
    "import scipy.stats\n",
    "import matplotlib.font_manager as font_manager\n",
    "from matplotlib import cm\n",
    "from matplotlib.path import Path\n",
    "import matplotlib.colors as colors\n",
    "from matplotlib.mlab import bivariate_normal\n",
    "from matplotlib.colors import LogNorm\n",
    "from mpl_toolkits.basemap import Basemap, maskoceans\n",
    "from scipy.stats.mstats import linregress\n",
    "from scipy import stats\n",
    "import shapefile\n",
    "import datetime\n",
    "#import seaborn as sns\n",
    "#sns.set()"
   ]
  },
  {
   "cell_type": "code",
   "execution_count": 27,
   "metadata": {},
   "outputs": [
    {
     "name": "stdout",
     "output_type": "stream",
     "text": [
      "-0.909435264888\n",
      "-0.949713283613\n",
      "-0.949713283613\n",
      "2.87669849523\n",
      "1.34613378369\n",
      "-0.828879227439\n",
      "-0.869157246164\n",
      "-0.788601208714\n",
      "-0.426099040192\n",
      "-0.184430927844\n",
      "-0.869157246164\n",
      "0.419739353025\n",
      "-0.869157246164\n",
      "-0.184430927844\n",
      "-0.74832318999\n",
      "-0.828879227439\n",
      "-0.264986965294\n",
      "-0.385821021468\n",
      "-0.506655077642\n",
      "-0.74832318999\n",
      "-0.385821021468\n",
      "0.0572371845035\n",
      "-0.103874890395\n",
      "2.91697651395\n",
      "-0.949713283613\n",
      "0.0572371845035\n",
      "0.0572371845035\n",
      "0.701685484098\n",
      "-0.224708946569\n",
      "0.862797558997\n",
      "0.943353596446\n",
      "0.298905296851\n",
      "-0.385821021468\n",
      "1.14474369007\n",
      "-0.264986965294\n",
      "-0.184430927844\n",
      "2.35308425181\n",
      "-0.224708946569\n"
     ]
    }
   ],
   "source": [
    "datadir = '/home/data/stp_narr/'\n",
    "nc1 = Dataset('narr_latlon.nc','r',format='NETCDF4_CLASSIC')\n",
    "lats = nc1.variables[\"lats\"][0][:][:]\n",
    "lons = nc1.variables[\"lons\"][0][:][:]\n",
    "nc1.close()\n",
    "#####################################################\n",
    "#Nx * Ny\n",
    "nx, ny = 400,200\n",
    "#####################################################\n",
    "stp_yr = np.empty((0,277,349))\n",
    "\n",
    "\n",
    "tor_file = '1950-2016_tor.csv'\n",
    "tor_df = pd.read_csv(tor_file)\n",
    "formats = '%Y-%m-%d'\n",
    "tor_df['datei']=pd.to_datetime(tor_df['date'], format=formats)\n",
    "tor_df=tor_df.set_index(pd.DatetimeIndex(tor_df['datei']))\n",
    "years = np.arange(1979,2017,1)\n",
    "#months = np.arange(1,13,1)\n",
    "months = [12]\n",
    "month_counts = []\n",
    "for yr in years:\n",
    "    for mn in months:\n",
    "        query='yr==%s & mo==%s' % (yr,mn)\n",
    "        torday_df = tor_df.query(query)\n",
    "        month_counts.append(torday_df['om'].count())\n",
    "\n",
    "month_counts = np.array(month_counts)        \n",
    "monthly_average = np.average(month_counts)\n",
    "monthly_stdev = np.std(month_counts)\n",
    "\n",
    "#print(monthly_average)\n",
    "#print(monthly_stdev)\n",
    "\n",
    "for val in month_counts:\n",
    "    print ((val-monthly_average)/monthly_stdev)"
   ]
  },
  {
   "cell_type": "code",
   "execution_count": null,
   "metadata": {},
   "outputs": [],
   "source": []
  }
 ],
 "metadata": {
  "kernelspec": {
   "display_name": "Python [conda env:py36]",
   "language": "python",
   "name": "conda-env-py36-py"
  },
  "language_info": {
   "codemirror_mode": {
    "name": "ipython",
    "version": 3
   },
   "file_extension": ".py",
   "mimetype": "text/x-python",
   "name": "python",
   "nbconvert_exporter": "python",
   "pygments_lexer": "ipython3",
   "version": "3.6.3"
  }
 },
 "nbformat": 4,
 "nbformat_minor": 2
}
