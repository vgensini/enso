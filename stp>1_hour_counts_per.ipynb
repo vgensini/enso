{
 "cells": [
  {
   "cell_type": "markdown",
   "metadata": {
    "nbpresent": {
     "id": "a1d5b56e-cb07-4e94-95bd-2688b485c4bb"
    }
   },
   "source": [
    "## Generate NARR STP >1 Climos\n",
    "##### Dr. Victor Gensini (Fall 2017)\n",
    "##### Department of Geographic and Atmospheric Sciences\n",
    "<img style=\"float:left;height:40px\"src=\"https://encrypted-tbn0.gstatic.com/images?q=tbn:ANd9GcQthtdrc2lZyEOC1iiwubFyvNfzJE7q7_GCTdlFF3peKckmi7cN\">"
   ]
  },
  {
   "cell_type": "code",
   "execution_count": 1,
   "metadata": {
    "collapsed": true,
    "nbpresent": {
     "id": "34a70e32-02f9-4c49-94b3-40a4b3c0efe7"
    }
   },
   "outputs": [],
   "source": [
    "import datetime, os, calendar\n",
    "import numpy as np\n",
    "import pandas as pd\n",
    "from netCDF4 import date2num,date2index\n",
    "from netCDF4 import Dataset"
   ]
  },
  {
   "cell_type": "code",
   "execution_count": 2,
   "metadata": {
    "collapsed": true,
    "nbpresent": {
     "id": "5c5a6056-ba10-4736-bd46-556e374c04b6"
    }
   },
   "outputs": [],
   "source": [
    "stp_yr = np.empty((0,277,349))\n",
    "stp_hrs = np.empty((0,38,277,349))\n",
    "stp_doy = np.empty((0,1,38,277,349))\n",
    "nc = Dataset('stp_cin_1979_2016.nc','r',format='NETCDF4_CLASSIC')"
   ]
  },
  {
   "cell_type": "code",
   "execution_count": 3,
   "metadata": {
    "nbpresent": {
     "id": "8adab360-bdbd-4cbf-adb2-f4cea5cddc43"
    }
   },
   "outputs": [
    {
     "name": "stdout",
     "output_type": "stream",
     "text": [
      "(365, 1, 38, 277, 349)\n"
     ]
    }
   ],
   "source": [
    "###############################\n",
    "#Enter the start and end date:#\n",
    "######################################\n",
    "#start_input = '1979110100' #YYYYMMDDHH\n",
    "#end_input  =  '2016110100' #YYYYMMDDHH\n",
    "######################################\n",
    "hours=['00','03','06','09','12','15','18','21']\n",
    "hours=['21']\n",
    "months=['01','02','03','04','05','06','07','08','09','10','11','12']\n",
    "for month in months:\n",
    "    if month=='01' or month=='03' or month=='05' or month=='07' or month=='08' or month=='10' or month=='12':\n",
    "        emon = 31\n",
    "    elif month=='04' or month=='06' or month=='09' or month=='11':\n",
    "        emon = 30\n",
    "    if month=='02':\n",
    "        emon = 28\n",
    "    daycount=1\n",
    "    while daycount <= emon:\n",
    "        for hrs in hours:\n",
    "            start_input = '1979'+month+'%02d'%daycount+hrs    #YYYYMMDDHH\n",
    "            end_input  =  '2016'+month+'%02d'%daycount+hrs #YYYYMMDDHH\n",
    "            begdate = datetime.datetime.strptime(start_input,\"%Y%m%d%H\")\n",
    "            enddate = datetime.datetime.strptime(end_input,\"%Y%m%d%H\")\n",
    "            dates = []\n",
    "            while begdate <= enddate:\n",
    "                if calendar.isleap(begdate.year) == True:   \n",
    "                    dates.append(begdate)\n",
    "                    begdate+=datetime.timedelta(days=1)\n",
    "                else:\n",
    "                    dates.append(begdate)\n",
    "                begdate+=datetime.timedelta(days=365)\n",
    "            #do things here\n",
    "            #print dates\n",
    "            #print len(dates)\n",
    "            for i,dt in enumerate(dates):\n",
    "                idex = date2index(dt,nc['time'])\n",
    "                stp = nc.variables[\"stp\"][idex][:][:]\n",
    "                cin  = nc.variables[\"sbcin\"][idex][:][:]\n",
    "                #cin mask\n",
    "                term5 = np.fabs(cin)\n",
    "                term5[np.fabs(cin)>50]=0.\n",
    "                term5[np.fabs(cin)<=50]=1.\n",
    "                stp = stp * term5\n",
    "                stp[stp<1]=0.\n",
    "                stp[stp>=500]=0.\n",
    "                stp_yr = np.append(stp_yr,[stp],axis=0)\n",
    "                #print scp_climo.shape\n",
    "            #print stp_yr.shape\n",
    "            #print stp_hrs.shape\n",
    "            del idex\n",
    "            del stp\n",
    "            del cin\n",
    "            del term5\n",
    "            stp_hrs=np.append(stp_hrs,[stp_yr],axis=0)\n",
    "            del stp_yr\n",
    "            stp_yr = np.empty((0,277,349))\n",
    "        #print stp_hrs.shape\n",
    "        #print stp_doy.shape\n",
    "        stp_doy=np.append(stp_doy,[stp_hrs],axis=0)\n",
    "        del stp_hrs\n",
    "        stp_hrs = np.empty((0,38,277,349))\n",
    "        daycount+=1\n",
    "print (stp_doy.shape)\n",
    "#stp_doy = np.sum(stp_doy,axis=2)\n",
    "np.save('/home/data/stp_narr/stp_21z.npy',stp_doy)"
   ]
  },
  {
   "cell_type": "code",
   "execution_count": 4,
   "metadata": {
    "collapsed": true,
    "nbpresent": {
     "id": "009dc3a9-cc91-475a-90c2-fff3b8d533ed"
    }
   },
   "outputs": [],
   "source": [
    "#nc.close()\n",
    "#mean_stp_daily = np.mean(scp_final,axis=1)\n",
    "#stdev_scp_daily = np.std(scp_final,axis=1)\n",
    "#log_values = np.log(scp_final)\n",
    "#mean_scp_daily_log = np.mean(log_values,axis=1)\n",
    "#stdev_scp_daily_log = np.std(log_values,axis=1)\n",
    "#print mean_scp_daily.shape\n",
    "#print stdev_scp_daily.shape\n",
    "#stp_doy.dump('narr_00z_stp.npy') #Daily Mean\n",
    "#stdev_scp_daily.dump('narr_stdev_scp_daily.npy') #Daily STDEV\n",
    "#mean_scp_daily_log.dump('narr_mean_scp_daily_log.npy') \n",
    "#stdev_scp_daily_log.dump('narr_stdev_scp_daily_log.npy') "
   ]
  },
  {
   "cell_type": "code",
   "execution_count": null,
   "metadata": {
    "collapsed": true,
    "nbpresent": {
     "id": "29d58d12-6552-4039-8cf3-93bb01de12f6"
    }
   },
   "outputs": [],
   "source": []
  }
 ],
 "metadata": {
  "kernelspec": {
   "display_name": "Python [conda env:py36]",
   "language": "python",
   "name": "conda-env-py36-py"
  },
  "language_info": {
   "codemirror_mode": {
    "name": "ipython",
    "version": 3
   },
   "file_extension": ".py",
   "mimetype": "text/x-python",
   "name": "python",
   "nbconvert_exporter": "python",
   "pygments_lexer": "ipython3",
   "version": "3.6.3"
  },
  "nbpresent": {
   "slides": {
    "047898ef-bda5-47e4-b651-463d2791a498": {
     "id": "047898ef-bda5-47e4-b651-463d2791a498",
     "prev": "b910bebd-15c1-42f8-b1be-c1f09eb8d08f",
     "regions": {
      "adc85e63-c454-4d0b-b2fc-7b79aae2a9d5": {
       "attrs": {
        "height": 0.8,
        "width": 0.8,
        "x": 0.1,
        "y": 0.1
       },
       "content": {
        "cell": "29d58d12-6552-4039-8cf3-93bb01de12f6",
        "part": "whole"
       },
       "id": "adc85e63-c454-4d0b-b2fc-7b79aae2a9d5"
      }
     }
    },
    "0c7d4241-0833-4271-a0bc-1678024623a4": {
     "id": "0c7d4241-0833-4271-a0bc-1678024623a4",
     "prev": "fa80fbdc-3067-499b-9534-9337e65ee808",
     "regions": {
      "a3405861-450d-4a4a-a7d6-618220948bb8": {
       "attrs": {
        "height": 0.8,
        "width": 0.8,
        "x": 0.1,
        "y": 0.1
       },
       "content": {
        "cell": "8adab360-bdbd-4cbf-adb2-f4cea5cddc43",
        "part": "whole"
       },
       "id": "a3405861-450d-4a4a-a7d6-618220948bb8"
      }
     }
    },
    "0e3f90f5-97c5-4f99-b681-6df21fd0aadc": {
     "id": "0e3f90f5-97c5-4f99-b681-6df21fd0aadc",
     "prev": "4d9fed70-f02b-4f0e-8f34-629d0ab8772c",
     "regions": {
      "fd43dffa-391d-487a-9dc2-b047b3b76029": {
       "attrs": {
        "height": 0.8,
        "width": 0.8,
        "x": 0.1,
        "y": 0.1
       },
       "content": {
        "cell": "009dc3a9-cc91-475a-90c2-fff3b8d533ed",
        "part": "whole"
       },
       "id": "fd43dffa-391d-487a-9dc2-b047b3b76029"
      }
     }
    },
    "2778408f-334b-426e-af80-cdb35cb5c6ff": {
     "id": "2778408f-334b-426e-af80-cdb35cb5c6ff",
     "prev": "0e3f90f5-97c5-4f99-b681-6df21fd0aadc",
     "regions": {
      "d31175a0-7671-43cb-8c64-9dc798152ad2": {
       "attrs": {
        "height": 0.8,
        "width": 0.8,
        "x": 0.1,
        "y": 0.1
       },
       "content": {
        "cell": "29d58d12-6552-4039-8cf3-93bb01de12f6",
        "part": "whole"
       },
       "id": "d31175a0-7671-43cb-8c64-9dc798152ad2"
      }
     }
    },
    "4d9fed70-f02b-4f0e-8f34-629d0ab8772c": {
     "id": "4d9fed70-f02b-4f0e-8f34-629d0ab8772c",
     "prev": "65752ddb-6828-492f-a77d-a64a5f6c315e",
     "regions": {
      "15cf6831-5d14-4c2a-9ed2-49123cff35a0": {
       "attrs": {
        "height": 0.8,
        "width": 0.8,
        "x": 0.1,
        "y": 0.1
       },
       "content": {
        "cell": "8adab360-bdbd-4cbf-adb2-f4cea5cddc43",
        "part": "whole"
       },
       "id": "15cf6831-5d14-4c2a-9ed2-49123cff35a0"
      }
     }
    },
    "4db8912f-e79e-4f09-b532-892c06487168": {
     "id": "4db8912f-e79e-4f09-b532-892c06487168",
     "prev": "e33572da-a234-404c-bdb4-d834031dd8e9",
     "regions": {
      "2c96f401-6c5d-49ab-a9c2-f417d5eb88a6": {
       "attrs": {
        "height": 0.8,
        "width": 0.8,
        "x": 0.1,
        "y": 0.1
       },
       "content": {
        "cell": "34a70e32-02f9-4c49-94b3-40a4b3c0efe7",
        "part": "whole"
       },
       "id": "2c96f401-6c5d-49ab-a9c2-f417d5eb88a6"
      }
     }
    },
    "65752ddb-6828-492f-a77d-a64a5f6c315e": {
     "id": "65752ddb-6828-492f-a77d-a64a5f6c315e",
     "prev": "4db8912f-e79e-4f09-b532-892c06487168",
     "regions": {
      "22beb264-ba24-4764-925b-101898494dc0": {
       "attrs": {
        "height": 0.8,
        "width": 0.8,
        "x": 0.1,
        "y": 0.1
       },
       "content": {
        "cell": "5c5a6056-ba10-4736-bd46-556e374c04b6",
        "part": "whole"
       },
       "id": "22beb264-ba24-4764-925b-101898494dc0"
      }
     }
    },
    "b910bebd-15c1-42f8-b1be-c1f09eb8d08f": {
     "id": "b910bebd-15c1-42f8-b1be-c1f09eb8d08f",
     "prev": "0c7d4241-0833-4271-a0bc-1678024623a4",
     "regions": {
      "a2880a4d-05da-4fd9-8065-3eccf932dfab": {
       "attrs": {
        "height": 0.8,
        "width": 0.8,
        "x": 0.1,
        "y": 0.1
       },
       "content": {
        "cell": "009dc3a9-cc91-475a-90c2-fff3b8d533ed",
        "part": "whole"
       },
       "id": "a2880a4d-05da-4fd9-8065-3eccf932dfab"
      }
     }
    },
    "b9654ecf-4319-4a45-8961-cab4061216bb": {
     "id": "b9654ecf-4319-4a45-8961-cab4061216bb",
     "prev": null,
     "regions": {
      "027b6da7-e41a-4d75-ac9d-d0834c0f462b": {
       "attrs": {
        "height": 0.8,
        "width": 0.8,
        "x": 0.1,
        "y": 0.1
       },
       "content": {
        "cell": "34a70e32-02f9-4c49-94b3-40a4b3c0efe7",
        "part": "whole"
       },
       "id": "027b6da7-e41a-4d75-ac9d-d0834c0f462b"
      }
     }
    },
    "e33572da-a234-404c-bdb4-d834031dd8e9": {
     "id": "e33572da-a234-404c-bdb4-d834031dd8e9",
     "prev": null,
     "regions": {
      "3934efbc-45e5-43a4-8656-941728c79541": {
       "attrs": {
        "height": 0.8,
        "width": 0.8,
        "x": 0.1,
        "y": 0.1
       },
       "content": {
        "cell": "a1d5b56e-cb07-4e94-95bd-2688b485c4bb",
        "part": "whole"
       },
       "id": "3934efbc-45e5-43a4-8656-941728c79541"
      }
     }
    },
    "fa80fbdc-3067-499b-9534-9337e65ee808": {
     "id": "fa80fbdc-3067-499b-9534-9337e65ee808",
     "prev": "b9654ecf-4319-4a45-8961-cab4061216bb",
     "regions": {
      "e2160489-8c18-431b-9fbc-7fc1dfb1b2b4": {
       "attrs": {
        "height": 0.8,
        "width": 0.8,
        "x": 0.1,
        "y": 0.1
       },
       "content": {
        "cell": "5c5a6056-ba10-4736-bd46-556e374c04b6",
        "part": "whole"
       },
       "id": "e2160489-8c18-431b-9fbc-7fc1dfb1b2b4"
      }
     }
    }
   },
   "themes": {
    "default": "fb867bda-0cfb-4019-9207-47b2c63779b4",
    "theme": {
     "fb867bda-0cfb-4019-9207-47b2c63779b4": {
      "backgrounds": {
       "backgroundColor": {
        "background-color": "backgroundColor",
        "id": "backgroundColor"
       }
      },
      "id": "fb867bda-0cfb-4019-9207-47b2c63779b4",
      "palette": {
       "backgroundColor": {
        "id": "backgroundColor",
        "rgb": [
         256,
         256,
         256
        ]
       },
       "headingColor": {
        "id": "headingColor",
        "rgb": [
         0,
         0,
         0
        ]
       },
       "linkColor": {
        "id": "linkColor",
        "rgb": [
         0,
         0,
         139
        ]
       },
       "mainColor": {
        "id": "mainColor",
        "rgb": [
         0,
         0,
         0
        ]
       }
      },
      "rules": {
       "a": {
        "color": "linkColor"
       },
       "h1": {
        "color": "headingColor",
        "font-family": "News Cycle",
        "font-size": 7
       },
       "h2": {
        "color": "headingColor",
        "font-family": "News Cycle",
        "font-size": 5
       },
       "h3": {
        "color": "headingColor",
        "font-family": "News Cycle",
        "font-size": 3.75
       },
       "h4": {
        "color": "headingColor",
        "font-family": "News Cycle",
        "font-size": 3
       },
       "h5": {
        "color": "headingColor",
        "font-family": "News Cycle"
       },
       "h6": {
        "color": "headingColor",
        "font-family": "News Cycle"
       },
       "h7": {
        "color": "headingColor",
        "font-family": "News Cycle"
       },
       "li": {
        "color": "mainColor",
        "font-family": "Lato",
        "font-size": 5
       },
       "p": {
        "color": "mainColor",
        "font-family": "Lato",
        "font-size": 5
       }
      },
      "text-base": {
       "color": "mainColor",
       "font-family": "Lato",
       "font-size": 5
      }
     }
    }
   }
  }
 },
 "nbformat": 4,
 "nbformat_minor": 2
}
