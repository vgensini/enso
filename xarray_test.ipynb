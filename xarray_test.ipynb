{
 "cells": [
  {
   "cell_type": "code",
   "execution_count": 1,
   "metadata": {
    "collapsed": true
   },
   "outputs": [],
   "source": [
    "import datetime, os, calendar\n",
    "import numpy as np\n",
    "import pandas as pd\n",
    "from netCDF4 import date2num,date2index\n",
    "from netCDF4 import Dataset\n",
    "import xarray as xr"
   ]
  },
  {
   "cell_type": "code",
   "execution_count": null,
   "metadata": {},
   "outputs": [],
   "source": [
    "#stp_yr = np.empty((0,277,349))\n",
    "#stp_hrs = np.empty((0,38,277,349))\n",
    "#stp_doy = np.empty((0,1,38,277,349))\n",
    "stp = xr.open_dataset('/home/data/stp_narr/stp_cin_1979_2017.nc')\n",
    "stp_00 = stp.sel(time=datetime.time(0))\n",
    "# stp_03 = stp.sel(time=datetime.time(3))\n",
    "# stp_06 = stp.sel(time=datetime.time(6))\n",
    "# stp_09 = stp.sel(time=datetime.time(9))\n",
    "# stp_12 = stp.sel(time=datetime.time(12))\n",
    "# stp_15 = stp.sel(time=datetime.time(15))\n",
    "# stp_18 = stp.sel(time=datetime.time(18))\n",
    "# stp_21 = stp.sel(time=datetime.time(21))\n",
    "\n",
    "stp_00[stp>=1]=1.\n",
    "\n",
    "# m = Basemap  (projection='lcc',lon_0=-92.54199,lat_0=38.09401,llcrnrlat=20, urcrnrlat=55,llcrnrlon=-120,urcrnrlon=-60,resolution='l',area_thresh=1000)\n",
    "# m.drawcoastlines(color='gray')\n",
    "# m.drawstates(color='gray')\n",
    "# m.drawcountries(color='gray')\n",
    "# x,y = m(lons,lats)\n",
    "# plot = m.pcolormesh(x,y,plot_me.values,zorder=1,vmin=0, vmax=10,cmap=cm.plasma)\n",
    "# plt.title('STP')\n",
    "# plt.show()"
   ]
  },
  {
   "cell_type": "code",
   "execution_count": null,
   "metadata": {
    "collapsed": true
   },
   "outputs": [],
   "source": []
  }
 ],
 "metadata": {
  "kernelspec": {
   "display_name": "Python [conda env:py36]",
   "language": "python",
   "name": "conda-env-py36-py"
  },
  "language_info": {
   "codemirror_mode": {
    "name": "ipython",
    "version": 3
   },
   "file_extension": ".py",
   "mimetype": "text/x-python",
   "name": "python",
   "nbconvert_exporter": "python",
   "pygments_lexer": "ipython3",
   "version": "3.6.3"
  }
 },
 "nbformat": 4,
 "nbformat_minor": 2
}
